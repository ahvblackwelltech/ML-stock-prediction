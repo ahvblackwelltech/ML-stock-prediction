{
  "nbformat": 4,
  "nbformat_minor": 0,
  "metadata": {
    "colab": {
      "name": "Gold_Prediction_Model.ipynb",
      "provenance": [],
      "collapsed_sections": [],
      "authorship_tag": "ABX9TyNN8lbfMFYxSmU8vkQ3TwyG",
      "include_colab_link": true
    },
    "kernelspec": {
      "name": "python3",
      "display_name": "Python 3"
    }
  },
  "cells": [
    {
      "cell_type": "markdown",
      "metadata": {
        "id": "view-in-github",
        "colab_type": "text"
      },
      "source": [
        "<a href=\"https://colab.research.google.com/github/ahvblackwelltech/ML-stock-prediction/blob/main/Gold_Prediction_Model.ipynb\" target=\"_parent\"><img src=\"https://colab.research.google.com/assets/colab-badge.svg\" alt=\"Open In Colab\"/></a>"
      ]
    },
    {
      "cell_type": "markdown",
      "metadata": {
        "id": "96Po8Yiczvfx"
      },
      "source": [
        "# **XAUUSD (GOLD) Prediction Model **"
      ]
    },
    {
      "cell_type": "markdown",
      "metadata": {
        "id": "C91fPnmT1wH7"
      },
      "source": [
        "This program uses a machine learning algorithm called a \"Decision Tree\" to predict if the price of a stock will increase or decrease"
      ]
    },
    {
      "cell_type": "code",
      "metadata": {
        "id": "gy7bhMsHy56T"
      },
      "source": [
        "# Import Libraries\n",
        "from sklearn.model_selection import train_test_split\n",
        "from sklearn.tree import DecisionTreeClassifier\n",
        "import numpy as np\n",
        "import pandas as pd\n"
      ],
      "execution_count": 2,
      "outputs": []
    },
    {
      "cell_type": "code",
      "metadata": {
        "id": "orLZRrIz4rQ9",
        "outputId": "899c398c-9626-4c35-ec50-a4b1eb852d69",
        "colab": {
          "resources": {
            "http://localhost:8080/nbextensions/google.colab/files.js": {
              "data": "Ly8gQ29weXJpZ2h0IDIwMTcgR29vZ2xlIExMQwovLwovLyBMaWNlbnNlZCB1bmRlciB0aGUgQXBhY2hlIExpY2Vuc2UsIFZlcnNpb24gMi4wICh0aGUgIkxpY2Vuc2UiKTsKLy8geW91IG1heSBub3QgdXNlIHRoaXMgZmlsZSBleGNlcHQgaW4gY29tcGxpYW5jZSB3aXRoIHRoZSBMaWNlbnNlLgovLyBZb3UgbWF5IG9idGFpbiBhIGNvcHkgb2YgdGhlIExpY2Vuc2UgYXQKLy8KLy8gICAgICBodHRwOi8vd3d3LmFwYWNoZS5vcmcvbGljZW5zZXMvTElDRU5TRS0yLjAKLy8KLy8gVW5sZXNzIHJlcXVpcmVkIGJ5IGFwcGxpY2FibGUgbGF3IG9yIGFncmVlZCB0byBpbiB3cml0aW5nLCBzb2Z0d2FyZQovLyBkaXN0cmlidXRlZCB1bmRlciB0aGUgTGljZW5zZSBpcyBkaXN0cmlidXRlZCBvbiBhbiAiQVMgSVMiIEJBU0lTLAovLyBXSVRIT1VUIFdBUlJBTlRJRVMgT1IgQ09ORElUSU9OUyBPRiBBTlkgS0lORCwgZWl0aGVyIGV4cHJlc3Mgb3IgaW1wbGllZC4KLy8gU2VlIHRoZSBMaWNlbnNlIGZvciB0aGUgc3BlY2lmaWMgbGFuZ3VhZ2UgZ292ZXJuaW5nIHBlcm1pc3Npb25zIGFuZAovLyBsaW1pdGF0aW9ucyB1bmRlciB0aGUgTGljZW5zZS4KCi8qKgogKiBAZmlsZW92ZXJ2aWV3IEhlbHBlcnMgZm9yIGdvb2dsZS5jb2xhYiBQeXRob24gbW9kdWxlLgogKi8KKGZ1bmN0aW9uKHNjb3BlKSB7CmZ1bmN0aW9uIHNwYW4odGV4dCwgc3R5bGVBdHRyaWJ1dGVzID0ge30pIHsKICBjb25zdCBlbGVtZW50ID0gZG9jdW1lbnQuY3JlYXRlRWxlbWVudCgnc3BhbicpOwogIGVsZW1lbnQudGV4dENvbnRlbnQgPSB0ZXh0OwogIGZvciAoY29uc3Qga2V5IG9mIE9iamVjdC5rZXlzKHN0eWxlQXR0cmlidXRlcykpIHsKICAgIGVsZW1lbnQuc3R5bGVba2V5XSA9IHN0eWxlQXR0cmlidXRlc1trZXldOwogIH0KICByZXR1cm4gZWxlbWVudDsKfQoKLy8gTWF4IG51bWJlciBvZiBieXRlcyB3aGljaCB3aWxsIGJlIHVwbG9hZGVkIGF0IGEgdGltZS4KY29uc3QgTUFYX1BBWUxPQURfU0laRSA9IDEwMCAqIDEwMjQ7CgpmdW5jdGlvbiBfdXBsb2FkRmlsZXMoaW5wdXRJZCwgb3V0cHV0SWQpIHsKICBjb25zdCBzdGVwcyA9IHVwbG9hZEZpbGVzU3RlcChpbnB1dElkLCBvdXRwdXRJZCk7CiAgY29uc3Qgb3V0cHV0RWxlbWVudCA9IGRvY3VtZW50LmdldEVsZW1lbnRCeUlkKG91dHB1dElkKTsKICAvLyBDYWNoZSBzdGVwcyBvbiB0aGUgb3V0cHV0RWxlbWVudCB0byBtYWtlIGl0IGF2YWlsYWJsZSBmb3IgdGhlIG5leHQgY2FsbAogIC8vIHRvIHVwbG9hZEZpbGVzQ29udGludWUgZnJvbSBQeXRob24uCiAgb3V0cHV0RWxlbWVudC5zdGVwcyA9IHN0ZXBzOwoKICByZXR1cm4gX3VwbG9hZEZpbGVzQ29udGludWUob3V0cHV0SWQpOwp9CgovLyBUaGlzIGlzIHJvdWdobHkgYW4gYXN5bmMgZ2VuZXJhdG9yIChub3Qgc3VwcG9ydGVkIGluIHRoZSBicm93c2VyIHlldCksCi8vIHdoZXJlIHRoZXJlIGFyZSBtdWx0aXBsZSBhc3luY2hyb25vdXMgc3RlcHMgYW5kIHRoZSBQeXRob24gc2lkZSBpcyBnb2luZwovLyB0byBwb2xsIGZvciBjb21wbGV0aW9uIG9mIGVhY2ggc3RlcC4KLy8gVGhpcyB1c2VzIGEgUHJvbWlzZSB0byBibG9jayB0aGUgcHl0aG9uIHNpZGUgb24gY29tcGxldGlvbiBvZiBlYWNoIHN0ZXAsCi8vIHRoZW4gcGFzc2VzIHRoZSByZXN1bHQgb2YgdGhlIHByZXZpb3VzIHN0ZXAgYXMgdGhlIGlucHV0IHRvIHRoZSBuZXh0IHN0ZXAuCmZ1bmN0aW9uIF91cGxvYWRGaWxlc0NvbnRpbnVlKG91dHB1dElkKSB7CiAgY29uc3Qgb3V0cHV0RWxlbWVudCA9IGRvY3VtZW50LmdldEVsZW1lbnRCeUlkKG91dHB1dElkKTsKICBjb25zdCBzdGVwcyA9IG91dHB1dEVsZW1lbnQuc3RlcHM7CgogIGNvbnN0IG5leHQgPSBzdGVwcy5uZXh0KG91dHB1dEVsZW1lbnQubGFzdFByb21pc2VWYWx1ZSk7CiAgcmV0dXJuIFByb21pc2UucmVzb2x2ZShuZXh0LnZhbHVlLnByb21pc2UpLnRoZW4oKHZhbHVlKSA9PiB7CiAgICAvLyBDYWNoZSB0aGUgbGFzdCBwcm9taXNlIHZhbHVlIHRvIG1ha2UgaXQgYXZhaWxhYmxlIHRvIHRoZSBuZXh0CiAgICAvLyBzdGVwIG9mIHRoZSBnZW5lcmF0b3IuCiAgICBvdXRwdXRFbGVtZW50Lmxhc3RQcm9taXNlVmFsdWUgPSB2YWx1ZTsKICAgIHJldHVybiBuZXh0LnZhbHVlLnJlc3BvbnNlOwogIH0pOwp9CgovKioKICogR2VuZXJhdG9yIGZ1bmN0aW9uIHdoaWNoIGlzIGNhbGxlZCBiZXR3ZWVuIGVhY2ggYXN5bmMgc3RlcCBvZiB0aGUgdXBsb2FkCiAqIHByb2Nlc3MuCiAqIEBwYXJhbSB7c3RyaW5nfSBpbnB1dElkIEVsZW1lbnQgSUQgb2YgdGhlIGlucHV0IGZpbGUgcGlja2VyIGVsZW1lbnQuCiAqIEBwYXJhbSB7c3RyaW5nfSBvdXRwdXRJZCBFbGVtZW50IElEIG9mIHRoZSBvdXRwdXQgZGlzcGxheS4KICogQHJldHVybiB7IUl0ZXJhYmxlPCFPYmplY3Q+fSBJdGVyYWJsZSBvZiBuZXh0IHN0ZXBzLgogKi8KZnVuY3Rpb24qIHVwbG9hZEZpbGVzU3RlcChpbnB1dElkLCBvdXRwdXRJZCkgewogIGNvbnN0IGlucHV0RWxlbWVudCA9IGRvY3VtZW50LmdldEVsZW1lbnRCeUlkKGlucHV0SWQpOwogIGlucHV0RWxlbWVudC5kaXNhYmxlZCA9IGZhbHNlOwoKICBjb25zdCBvdXRwdXRFbGVtZW50ID0gZG9jdW1lbnQuZ2V0RWxlbWVudEJ5SWQob3V0cHV0SWQpOwogIG91dHB1dEVsZW1lbnQuaW5uZXJIVE1MID0gJyc7CgogIGNvbnN0IHBpY2tlZFByb21pc2UgPSBuZXcgUHJvbWlzZSgocmVzb2x2ZSkgPT4gewogICAgaW5wdXRFbGVtZW50LmFkZEV2ZW50TGlzdGVuZXIoJ2NoYW5nZScsIChlKSA9PiB7CiAgICAgIHJlc29sdmUoZS50YXJnZXQuZmlsZXMpOwogICAgfSk7CiAgfSk7CgogIGNvbnN0IGNhbmNlbCA9IGRvY3VtZW50LmNyZWF0ZUVsZW1lbnQoJ2J1dHRvbicpOwogIGlucHV0RWxlbWVudC5wYXJlbnRFbGVtZW50LmFwcGVuZENoaWxkKGNhbmNlbCk7CiAgY2FuY2VsLnRleHRDb250ZW50ID0gJ0NhbmNlbCB1cGxvYWQnOwogIGNvbnN0IGNhbmNlbFByb21pc2UgPSBuZXcgUHJvbWlzZSgocmVzb2x2ZSkgPT4gewogICAgY2FuY2VsLm9uY2xpY2sgPSAoKSA9PiB7CiAgICAgIHJlc29sdmUobnVsbCk7CiAgICB9OwogIH0pOwoKICAvLyBXYWl0IGZvciB0aGUgdXNlciB0byBwaWNrIHRoZSBmaWxlcy4KICBjb25zdCBmaWxlcyA9IHlpZWxkIHsKICAgIHByb21pc2U6IFByb21pc2UucmFjZShbcGlja2VkUHJvbWlzZSwgY2FuY2VsUHJvbWlzZV0pLAogICAgcmVzcG9uc2U6IHsKICAgICAgYWN0aW9uOiAnc3RhcnRpbmcnLAogICAgfQogIH07CgogIGNhbmNlbC5yZW1vdmUoKTsKCiAgLy8gRGlzYWJsZSB0aGUgaW5wdXQgZWxlbWVudCBzaW5jZSBmdXJ0aGVyIHBpY2tzIGFyZSBub3QgYWxsb3dlZC4KICBpbnB1dEVsZW1lbnQuZGlzYWJsZWQgPSB0cnVlOwoKICBpZiAoIWZpbGVzKSB7CiAgICByZXR1cm4gewogICAgICByZXNwb25zZTogewogICAgICAgIGFjdGlvbjogJ2NvbXBsZXRlJywKICAgICAgfQogICAgfTsKICB9CgogIGZvciAoY29uc3QgZmlsZSBvZiBmaWxlcykgewogICAgY29uc3QgbGkgPSBkb2N1bWVudC5jcmVhdGVFbGVtZW50KCdsaScpOwogICAgbGkuYXBwZW5kKHNwYW4oZmlsZS5uYW1lLCB7Zm9udFdlaWdodDogJ2JvbGQnfSkpOwogICAgbGkuYXBwZW5kKHNwYW4oCiAgICAgICAgYCgke2ZpbGUudHlwZSB8fCAnbi9hJ30pIC0gJHtmaWxlLnNpemV9IGJ5dGVzLCBgICsKICAgICAgICBgbGFzdCBtb2RpZmllZDogJHsKICAgICAgICAgICAgZmlsZS5sYXN0TW9kaWZpZWREYXRlID8gZmlsZS5sYXN0TW9kaWZpZWREYXRlLnRvTG9jYWxlRGF0ZVN0cmluZygpIDoKICAgICAgICAgICAgICAgICAgICAgICAgICAgICAgICAgICAgJ24vYSd9IC0gYCkpOwogICAgY29uc3QgcGVyY2VudCA9IHNwYW4oJzAlIGRvbmUnKTsKICAgIGxpLmFwcGVuZENoaWxkKHBlcmNlbnQpOwoKICAgIG91dHB1dEVsZW1lbnQuYXBwZW5kQ2hpbGQobGkpOwoKICAgIGNvbnN0IGZpbGVEYXRhUHJvbWlzZSA9IG5ldyBQcm9taXNlKChyZXNvbHZlKSA9PiB7CiAgICAgIGNvbnN0IHJlYWRlciA9IG5ldyBGaWxlUmVhZGVyKCk7CiAgICAgIHJlYWRlci5vbmxvYWQgPSAoZSkgPT4gewogICAgICAgIHJlc29sdmUoZS50YXJnZXQucmVzdWx0KTsKICAgICAgfTsKICAgICAgcmVhZGVyLnJlYWRBc0FycmF5QnVmZmVyKGZpbGUpOwogICAgfSk7CiAgICAvLyBXYWl0IGZvciB0aGUgZGF0YSB0byBiZSByZWFkeS4KICAgIGxldCBmaWxlRGF0YSA9IHlpZWxkIHsKICAgICAgcHJvbWlzZTogZmlsZURhdGFQcm9taXNlLAogICAgICByZXNwb25zZTogewogICAgICAgIGFjdGlvbjogJ2NvbnRpbnVlJywKICAgICAgfQogICAgfTsKCiAgICAvLyBVc2UgYSBjaHVua2VkIHNlbmRpbmcgdG8gYXZvaWQgbWVzc2FnZSBzaXplIGxpbWl0cy4gU2VlIGIvNjIxMTU2NjAuCiAgICBsZXQgcG9zaXRpb24gPSAwOwogICAgd2hpbGUgKHBvc2l0aW9uIDwgZmlsZURhdGEuYnl0ZUxlbmd0aCkgewogICAgICBjb25zdCBsZW5ndGggPSBNYXRoLm1pbihmaWxlRGF0YS5ieXRlTGVuZ3RoIC0gcG9zaXRpb24sIE1BWF9QQVlMT0FEX1NJWkUpOwogICAgICBjb25zdCBjaHVuayA9IG5ldyBVaW50OEFycmF5KGZpbGVEYXRhLCBwb3NpdGlvbiwgbGVuZ3RoKTsKICAgICAgcG9zaXRpb24gKz0gbGVuZ3RoOwoKICAgICAgY29uc3QgYmFzZTY0ID0gYnRvYShTdHJpbmcuZnJvbUNoYXJDb2RlLmFwcGx5KG51bGwsIGNodW5rKSk7CiAgICAgIHlpZWxkIHsKICAgICAgICByZXNwb25zZTogewogICAgICAgICAgYWN0aW9uOiAnYXBwZW5kJywKICAgICAgICAgIGZpbGU6IGZpbGUubmFtZSwKICAgICAgICAgIGRhdGE6IGJhc2U2NCwKICAgICAgICB9LAogICAgICB9OwogICAgICBwZXJjZW50LnRleHRDb250ZW50ID0KICAgICAgICAgIGAke01hdGgucm91bmQoKHBvc2l0aW9uIC8gZmlsZURhdGEuYnl0ZUxlbmd0aCkgKiAxMDApfSUgZG9uZWA7CiAgICB9CiAgfQoKICAvLyBBbGwgZG9uZS4KICB5aWVsZCB7CiAgICByZXNwb25zZTogewogICAgICBhY3Rpb246ICdjb21wbGV0ZScsCiAgICB9CiAgfTsKfQoKc2NvcGUuZ29vZ2xlID0gc2NvcGUuZ29vZ2xlIHx8IHt9OwpzY29wZS5nb29nbGUuY29sYWIgPSBzY29wZS5nb29nbGUuY29sYWIgfHwge307CnNjb3BlLmdvb2dsZS5jb2xhYi5fZmlsZXMgPSB7CiAgX3VwbG9hZEZpbGVzLAogIF91cGxvYWRGaWxlc0NvbnRpbnVlLAp9Owp9KShzZWxmKTsK",
              "ok": true,
              "headers": [
                [
                  "content-type",
                  "application/javascript"
                ]
              ],
              "status": 200,
              "status_text": ""
            }
          },
          "base_uri": "https://localhost:8080/",
          "height": 126
        }
      },
      "source": [
        "# Load The Data \n",
        "from google.colab import files\n",
        "files.upload()"
      ],
      "execution_count": 12,
      "outputs": [
        {
          "output_type": "display_data",
          "data": {
            "text/html": [
              "\n",
              "     <input type=\"file\" id=\"files-f56f13d2-6ec5-406a-a1fe-7187b84e6ac9\" name=\"files[]\" multiple disabled\n",
              "        style=\"border:none\" />\n",
              "     <output id=\"result-f56f13d2-6ec5-406a-a1fe-7187b84e6ac9\">\n",
              "      Upload widget is only available when the cell has been executed in the\n",
              "      current browser session. Please rerun this cell to enable.\n",
              "      </output>\n",
              "      <script src=\"/nbextensions/google.colab/files.js\"></script> "
            ],
            "text/plain": [
              "<IPython.core.display.HTML object>"
            ]
          },
          "metadata": {
            "tags": []
          }
        },
        {
          "output_type": "stream",
          "text": [
            "Saving XAUUSD_Price_History_10_21_2020.csv to XAUUSD_Price_History_10_21_2020.csv\n"
          ],
          "name": "stdout"
        },
        {
          "output_type": "execute_result",
          "data": {
            "text/plain": [
              "{'XAUUSD_Price_History_10_21_2020.csv': b'XAUUSD_price-history-10-21-2020\\r\\nDate,Open,High,Low,Last,Change,Volume\\r\\n10/21/2020,1906.84,1929.99,1906.65,1924.32,17.38,7748\\r\\n10/20/2020,1903.8,1913.6,1895.92,1906.94,3.22,7567\\r\\n10/19/2020,1898.24,1916.95,1897.72,1903.72,5.42,7731\\r\\n10/16/2020,1907.85,1912.42,1897.85,1898.3,-9.49,6733\\r\\n10/15/2020,1900.74,1908.19,1890.22,1907.79,7.03,6446\\r\\n10/14/2020,1890.81,1911.77,1884.4,1900.76,10.04,6490\\r\\n10/13/2020,1922.09,1924.62,1888.07,1890.72,-31.41,6352\\r\\n10/12/2020,1929.62,1932.16,1919.12,1922.13,-7.51,6895\\r\\n10/09/2020,1893.07,1929.66,1892.82,1929.64,36.53,6687\\r\\n10/08/2020,1887.33,1898.76,1882.4,1893.11,5.85,6834\\r\\n10/07/2020,1877.56,1896.73,1874.09,1887.26,9.67,6497\\r\\n10/06/2020,1913.04,1919.26,1877.45,1877.59,-35.57,6200\\r\\n10/05/2020,1898.62,1916.24,1887.3,1913.16,14.5,6415\\r\\n10/02/2020,1904.96,1915.38,1890.89,1898.66,-6.22,6393\\r\\n10/01/2020,1884.82,1910.76,1884.82,1904.88,20.09,6867\\r\\n09/30/2020,1896.94,1900.94,1882.19,1884.79,-12.21,6384\\r\\n09/29/2020,1881,1898.17,1876.39,1897,15.79,6532\\r\\n09/28/2020,1860.37,1882.3,1850.83,1881.21,20.89,6516\\r\\n09/25/2020,1867.72,1873.86,1854.94,1860.32,-7.44,6427\\r\\n09/24/2020,1862.95,1875.73,1849.22,1867.76,4.86,6533\\r\\n09/23/2020,1899.55,1904.26,1858.03,1862.9,-36.79,6272\\r\\n09/22/2020,1912.22,1918.9,1896.88,1899.69,-12.52,7030\\r\\n09/21/2020,1949.58,1954.28,1888.25,1912.21,-37.44,6697\\r\\n09/18/2020,1943.85,1959.31,1943.75,1949.65,5.8,7116\\r\\n09/17/2020,1959.16,1960.03,1934.41,1943.85,-15.38,7080\\r\\n09/16/2020,1953.44,1971.34,1950.65,1959.23,5.84,7360\\r\\n09/15/2020,1956.1,1970.74,1949.13,1953.39,-2.74,7393\\r\\n09/14/2020,1939.69,1961.1,1938.26,1956.13,16.45,7582\\r\\n09/11/2020,1945.95,1953.42,1938.14,1939.68,-6.26,7272\\r\\n09/10/2020,1946.48,1964.61,1942.02,1945.94,-0.53,7314\\r\\n09/09/2020,1931.08,1949.99,1920.81,1946.47,15.38,7051\\r\\n09/08/2020,1928.41,1939.8,1908.38,1931.09,2.68,7440\\r\\n09/07/2020,1932.88,1940.49,1925.54,1928.41,-4.44,6133\\r\\n09/04/2020,1930.23,1940.86,1918.66,1932.85,2.56,6995\\r\\n09/03/2020,1942.75,1950.16,1924.83,1930.29,-12.56,7430\\r\\n09/02/2020,1970.34,1972.4,1934.45,1942.85,-27.6,7449\\r\\n09/01/2020,1967.35,1991.22,1965.49,1970.45,3.16,7626\\r\\n08/31/2020,1964.06,1975.1,1955.87,1967.29,3.24,7350\\r\\n08/28/2020,1928.72,1972.73,1924.37,1964.05,35.42,7216\\r\\n08/27/2020,1953.19,1966.5,1916.95,1928.63,-24.64,6308\\r\\n08/26/2020,1927.55,1954.22,1903.83,1953.27,25.83,6860\\r\\n08/25/2020,1928.56,1936.91,1915.37,1927.44,-1.16,6928\\r\\n08/24/2020,1939.46,1959.35,1924.14,1928.6,-9.03,6820\\r\\n08/21/2020,1945.84,1954.22,1913.83,1937.63,-8.25,6257\\r\\n08/20/2020,1927.62,1953.49,1925.37,1945.88,18.44,5415\\r\\n08/19/2020,2001.27,2005.8,1925.53,1927.44,-74.13,5569\\r\\n08/18/2020,1984.36,2014.05,1980.92,2001.57,17.23,6107\\r\\n08/17/2020,1943.63,1988.75,1931.55,1984.34,40.69,6267\\r\\n08/14/2020,1952.69,1961.25,1935.31,1943.65,-9.12,5809\\r\\n08/13/2020,1916.35,1964.61,1913.54,1952.77,36.53,5599\\r\\n08/12/2020,1911.64,1947.89,1869.42,1916.24,4.46,5406\\r\\n08/11/2020,2027.03,2029.24,1907.78,1911.78,-115.16,6329\\r\\n08/10/2020,2033.81,2048.77,2021.46,2026.94,-6.81,6421\\r\\n08/07/2020,2062.96,2070.48,2016.43,2033.75,-29.27,6188\\r\\n08/06/2020,2037.5,2067.64,2035.1,2063.02,25.4,6283\\r\\n08/05/2020,2018.09,2052.69,2010.32,2037.62,19.46,6241\\r\\n08/04/2020,1976.16,2018.16,1970.02,2018.16,42.03,6587\\r\\n08/03/2020,1974.67,1984.06,1961.22,1976.13,1.45,6715\\r\\n07/31/2020,1955.68,1976.77,1955.3,1974.68,18.87,6991\\r\\n07/30/2020,1970.18,1970.73,1940.7,1955.81,-14.39,6895\\r\\n07/29/2020,1958.91,1977.4,1946.74,1970.2,11.13,6588\\r\\n07/28/2020,1941.29,1976.81,1911.71,1959.07,17.86,6530\\r\\n07/27/2020,1900.83,1945.13,1900.38,1941.21,40.33,6615\\r\\n07/24/2020,1886.53,1904.74,1883,1900.88,14.39,6937\\r\\n07/23/2020,1871.46,1897.08,1864.64,1886.49,15.06,6716\\r\\n07/22/2020,1841.39,1871.43,1840.66,1871.43,30.18,6765\\r\\n07/21/2020,1816.85,1842.9,1815.94,1841.25,24.47,6887'}"
            ]
          },
          "metadata": {
            "tags": []
          },
          "execution_count": 12
        }
      ]
    },
    {
      "cell_type": "code",
      "metadata": {
        "id": "btimtMhO6aDN",
        "outputId": "868196ea-3966-4860-a4ea-39dd4448186b",
        "colab": {
          "base_uri": "https://localhost:8080/",
          "height": 221
        }
      },
      "source": [
        "# Store the data into a variable\n",
        "df = pd.read_csv('XAUUSD_Price_History_10_21_2020.csv')\n",
        "\n",
        "# Fixing The Date And Index\n",
        "df = df.set_index(pd.DatetimeIndex(df['Date'].values))\n",
        "\n",
        "# Preview XAUUSD Price History \n",
        "df.head()"
      ],
      "execution_count": 16,
      "outputs": [
        {
          "output_type": "execute_result",
          "data": {
            "text/html": [
              "<div>\n",
              "<style scoped>\n",
              "    .dataframe tbody tr th:only-of-type {\n",
              "        vertical-align: middle;\n",
              "    }\n",
              "\n",
              "    .dataframe tbody tr th {\n",
              "        vertical-align: top;\n",
              "    }\n",
              "\n",
              "    .dataframe thead th {\n",
              "        text-align: right;\n",
              "    }\n",
              "</style>\n",
              "<table border=\"1\" class=\"dataframe\">\n",
              "  <thead>\n",
              "    <tr style=\"text-align: right;\">\n",
              "      <th></th>\n",
              "      <th></th>\n",
              "      <th></th>\n",
              "      <th></th>\n",
              "      <th></th>\n",
              "      <th></th>\n",
              "      <th>XAUUSD_price-history-10-21-2020</th>\n",
              "    </tr>\n",
              "  </thead>\n",
              "  <tbody>\n",
              "    <tr>\n",
              "      <th>Date</th>\n",
              "      <th>Open</th>\n",
              "      <th>High</th>\n",
              "      <th>Low</th>\n",
              "      <th>Last</th>\n",
              "      <th>Change</th>\n",
              "      <td>Volume</td>\n",
              "    </tr>\n",
              "    <tr>\n",
              "      <th>10/21/2020</th>\n",
              "      <th>1906.84</th>\n",
              "      <th>1929.99</th>\n",
              "      <th>1906.65</th>\n",
              "      <th>1924.32</th>\n",
              "      <th>17.38</th>\n",
              "      <td>7748</td>\n",
              "    </tr>\n",
              "    <tr>\n",
              "      <th>10/20/2020</th>\n",
              "      <th>1903.8</th>\n",
              "      <th>1913.6</th>\n",
              "      <th>1895.92</th>\n",
              "      <th>1906.94</th>\n",
              "      <th>3.22</th>\n",
              "      <td>7567</td>\n",
              "    </tr>\n",
              "    <tr>\n",
              "      <th>10/19/2020</th>\n",
              "      <th>1898.24</th>\n",
              "      <th>1916.95</th>\n",
              "      <th>1897.72</th>\n",
              "      <th>1903.72</th>\n",
              "      <th>5.42</th>\n",
              "      <td>7731</td>\n",
              "    </tr>\n",
              "    <tr>\n",
              "      <th>10/16/2020</th>\n",
              "      <th>1907.85</th>\n",
              "      <th>1912.42</th>\n",
              "      <th>1897.85</th>\n",
              "      <th>1898.3</th>\n",
              "      <th>-9.49</th>\n",
              "      <td>6733</td>\n",
              "    </tr>\n",
              "  </tbody>\n",
              "</table>\n",
              "</div>"
            ],
            "text/plain": [
              "                                                  XAUUSD_price-history-10-21-2020\n",
              "Date       Open    High    Low     Last    Change                          Volume\n",
              "10/21/2020 1906.84 1929.99 1906.65 1924.32 17.38                             7748\n",
              "10/20/2020 1903.8  1913.6  1895.92 1906.94 3.22                              7567\n",
              "10/19/2020 1898.24 1916.95 1897.72 1903.72 5.42                              7731\n",
              "10/16/2020 1907.85 1912.42 1897.85 1898.3  -9.49                             6733"
            ]
          },
          "metadata": {
            "tags": []
          },
          "execution_count": 16
        }
      ]
    },
    {
      "cell_type": "code",
      "metadata": {
        "id": "YFZZeEEI_HGB"
      },
      "source": [
        ""
      ],
      "execution_count": null,
      "outputs": []
    }
  ]
}